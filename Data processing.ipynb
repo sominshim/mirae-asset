{
 "cells": [
  {
   "cell_type": "markdown",
   "metadata": {},
   "source": [
    "## 데이터 이해 및 전처리"
   ]
  },
  {
   "cell_type": "markdown",
   "metadata": {},
   "source": [
    "과정 : 어떤 일이 있어났는가? > 왜 일어났는가? > 무슨 일이 일어날 것인가? > 우리는 무엇을 해야할 것인가?"
   ]
  },
  {
   "cell_type": "code",
   "execution_count": 2,
   "metadata": {},
   "outputs": [],
   "source": [
    "import sys\n",
    "assert sys.version_info >= (3, 5)\n",
    "\n",
    "import sklearn\n",
    "assert sklearn.__version__ >= \"0.20\"\n",
    "\n",
    "import numpy as np\n",
    "import pandas as pd\n",
    "import os\n",
    "\n",
    "%matplotlib inline\n",
    "import matplotlib as mpl\n",
    "import matplotlib.pyplot as plt\n",
    "\n",
    "import warnings\n",
    "warnings.filterwarnings(action=\"ignore\", message=\"^internal gelsd\")\n",
    "\n",
    "np.random.seed(42)"
   ]
  },
  {
   "cell_type": "code",
   "execution_count": 29,
   "metadata": {},
   "outputs": [],
   "source": [
    "trade = pd.read_csv('trade_add.csv')\n",
    "stocks = pd.read_csv('stocks_add.csv')"
   ]
  },
  {
   "cell_type": "code",
   "execution_count": 30,
   "metadata": {},
   "outputs": [
    {
     "data": {
      "text/html": [
       "<div>\n",
       "<style scoped>\n",
       "    .dataframe tbody tr th:only-of-type {\n",
       "        vertical-align: middle;\n",
       "    }\n",
       "\n",
       "    .dataframe tbody tr th {\n",
       "        vertical-align: top;\n",
       "    }\n",
       "\n",
       "    .dataframe thead th {\n",
       "        text-align: right;\n",
       "    }\n",
       "</style>\n",
       "<table border=\"1\" class=\"dataframe\">\n",
       "  <thead>\n",
       "    <tr style=\"text-align: right;\">\n",
       "      <th></th>\n",
       "      <th>Unnamed: 0</th>\n",
       "      <th>기준년월</th>\n",
       "      <th>그룹번호</th>\n",
       "      <th>그룹내고객수</th>\n",
       "      <th>종목번호</th>\n",
       "      <th>그룹내_매수여부</th>\n",
       "      <th>그룹내_매도여부</th>\n",
       "      <th>매도고객수</th>\n",
       "      <th>평균매수수량</th>\n",
       "      <th>평균매도수량</th>\n",
       "      <th>매수가격_중앙값</th>\n",
       "      <th>매도가격_중앙값</th>\n",
       "      <th>매도가격_중앙값 - 매수가격_중앙값/매수가격_중앙값</th>\n",
       "      <th>매수수량 - 매도수량</th>\n",
       "      <th>배당률</th>\n",
       "      <th>거래량</th>\n",
       "      <th>주식가격_만원단위</th>\n",
       "      <th>종목고가 - 종목저가/종목시가</th>\n",
       "      <th>시가총액</th>\n",
       "      <th>매수고객수</th>\n",
       "    </tr>\n",
       "  </thead>\n",
       "  <tbody>\n",
       "    <tr>\n",
       "      <th>0</th>\n",
       "      <td>0</td>\n",
       "      <td>201907</td>\n",
       "      <td>MAD01</td>\n",
       "      <td>288</td>\n",
       "      <td>A000660</td>\n",
       "      <td>1</td>\n",
       "      <td>1</td>\n",
       "      <td>17</td>\n",
       "      <td>19</td>\n",
       "      <td>234</td>\n",
       "      <td>74800</td>\n",
       "      <td>78500</td>\n",
       "      <td>4.946524</td>\n",
       "      <td>-215</td>\n",
       "      <td>1.23</td>\n",
       "      <td>2.993388e+06</td>\n",
       "      <td>7.45631</td>\n",
       "      <td>2.905458</td>\n",
       "      <td>5.428212e+09</td>\n",
       "      <td>7</td>\n",
       "    </tr>\n",
       "    <tr>\n",
       "      <th>1</th>\n",
       "      <td>50</td>\n",
       "      <td>201907</td>\n",
       "      <td>MAD04</td>\n",
       "      <td>776</td>\n",
       "      <td>A000660</td>\n",
       "      <td>1</td>\n",
       "      <td>1</td>\n",
       "      <td>36</td>\n",
       "      <td>329</td>\n",
       "      <td>434</td>\n",
       "      <td>74800</td>\n",
       "      <td>74700</td>\n",
       "      <td>-0.133690</td>\n",
       "      <td>-105</td>\n",
       "      <td>1.23</td>\n",
       "      <td>2.993388e+06</td>\n",
       "      <td>7.45631</td>\n",
       "      <td>2.905458</td>\n",
       "      <td>5.428212e+09</td>\n",
       "      <td>23</td>\n",
       "    </tr>\n",
       "    <tr>\n",
       "      <th>2</th>\n",
       "      <td>121</td>\n",
       "      <td>201907</td>\n",
       "      <td>MAD05</td>\n",
       "      <td>890</td>\n",
       "      <td>A000660</td>\n",
       "      <td>1</td>\n",
       "      <td>1</td>\n",
       "      <td>11</td>\n",
       "      <td>6</td>\n",
       "      <td>23</td>\n",
       "      <td>67000</td>\n",
       "      <td>78800</td>\n",
       "      <td>17.611940</td>\n",
       "      <td>-17</td>\n",
       "      <td>1.23</td>\n",
       "      <td>2.993388e+06</td>\n",
       "      <td>7.45631</td>\n",
       "      <td>2.905458</td>\n",
       "      <td>5.428212e+09</td>\n",
       "      <td>3</td>\n",
       "    </tr>\n",
       "    <tr>\n",
       "      <th>3</th>\n",
       "      <td>191</td>\n",
       "      <td>201907</td>\n",
       "      <td>MAD06</td>\n",
       "      <td>1615</td>\n",
       "      <td>A000660</td>\n",
       "      <td>1</td>\n",
       "      <td>1</td>\n",
       "      <td>63</td>\n",
       "      <td>77</td>\n",
       "      <td>145</td>\n",
       "      <td>74600</td>\n",
       "      <td>72150</td>\n",
       "      <td>-3.284182</td>\n",
       "      <td>-68</td>\n",
       "      <td>1.23</td>\n",
       "      <td>2.993388e+06</td>\n",
       "      <td>7.45631</td>\n",
       "      <td>2.905458</td>\n",
       "      <td>5.428212e+09</td>\n",
       "      <td>27</td>\n",
       "    </tr>\n",
       "    <tr>\n",
       "      <th>4</th>\n",
       "      <td>389</td>\n",
       "      <td>201907</td>\n",
       "      <td>MAD09</td>\n",
       "      <td>634</td>\n",
       "      <td>A000660</td>\n",
       "      <td>1</td>\n",
       "      <td>1</td>\n",
       "      <td>13</td>\n",
       "      <td>210</td>\n",
       "      <td>237</td>\n",
       "      <td>74800</td>\n",
       "      <td>72400</td>\n",
       "      <td>-3.208556</td>\n",
       "      <td>-27</td>\n",
       "      <td>1.23</td>\n",
       "      <td>2.993388e+06</td>\n",
       "      <td>7.45631</td>\n",
       "      <td>2.905458</td>\n",
       "      <td>5.428212e+09</td>\n",
       "      <td>7</td>\n",
       "    </tr>\n",
       "  </tbody>\n",
       "</table>\n",
       "</div>"
      ],
      "text/plain": [
       "   Unnamed: 0    기준년월   그룹번호  그룹내고객수     종목번호  그룹내_매수여부  그룹내_매도여부  매도고객수  \\\n",
       "0           0  201907  MAD01     288  A000660         1         1     17   \n",
       "1          50  201907  MAD04     776  A000660         1         1     36   \n",
       "2         121  201907  MAD05     890  A000660         1         1     11   \n",
       "3         191  201907  MAD06    1615  A000660         1         1     63   \n",
       "4         389  201907  MAD09     634  A000660         1         1     13   \n",
       "\n",
       "   평균매수수량  평균매도수량  매수가격_중앙값  매도가격_중앙값  매도가격_중앙값 - 매수가격_중앙값/매수가격_중앙값  \\\n",
       "0      19     234     74800     78500                      4.946524   \n",
       "1     329     434     74800     74700                     -0.133690   \n",
       "2       6      23     67000     78800                     17.611940   \n",
       "3      77     145     74600     72150                     -3.284182   \n",
       "4     210     237     74800     72400                     -3.208556   \n",
       "\n",
       "   매수수량 - 매도수량   배당률           거래량  주식가격_만원단위  종목고가 - 종목저가/종목시가          시가총액  \\\n",
       "0         -215  1.23  2.993388e+06    7.45631          2.905458  5.428212e+09   \n",
       "1         -105  1.23  2.993388e+06    7.45631          2.905458  5.428212e+09   \n",
       "2          -17  1.23  2.993388e+06    7.45631          2.905458  5.428212e+09   \n",
       "3          -68  1.23  2.993388e+06    7.45631          2.905458  5.428212e+09   \n",
       "4          -27  1.23  2.993388e+06    7.45631          2.905458  5.428212e+09   \n",
       "\n",
       "   매수고객수  \n",
       "0      7  \n",
       "1     23  \n",
       "2      3  \n",
       "3     27  \n",
       "4      7  "
      ]
     },
     "execution_count": 30,
     "metadata": {},
     "output_type": "execute_result"
    }
   ],
   "source": [
    "trade.head()"
   ]
  },
  {
   "cell_type": "code",
   "execution_count": 31,
   "metadata": {},
   "outputs": [
    {
     "data": {
      "text/html": [
       "<div>\n",
       "<style scoped>\n",
       "    .dataframe tbody tr th:only-of-type {\n",
       "        vertical-align: middle;\n",
       "    }\n",
       "\n",
       "    .dataframe tbody tr th {\n",
       "        vertical-align: top;\n",
       "    }\n",
       "\n",
       "    .dataframe thead th {\n",
       "        text-align: right;\n",
       "    }\n",
       "</style>\n",
       "<table border=\"1\" class=\"dataframe\">\n",
       "  <thead>\n",
       "    <tr style=\"text-align: right;\">\n",
       "      <th></th>\n",
       "      <th>Unnamed: 0</th>\n",
       "      <th>기준일자</th>\n",
       "      <th>종목번호</th>\n",
       "      <th>종목명</th>\n",
       "      <th>20년7월TOP3대상여부</th>\n",
       "      <th>시장구분</th>\n",
       "      <th>표준산업구분코드_소분류</th>\n",
       "      <th>거래량</th>\n",
       "      <th>주식가격_만원단위</th>\n",
       "      <th>종목고가 - 종목저가/종목시가</th>\n",
       "      <th>주식발행수</th>\n",
       "      <th>시가총액</th>\n",
       "      <th>year</th>\n",
       "      <th>month</th>\n",
       "      <th>day</th>\n",
       "      <th>기준년월</th>\n",
       "    </tr>\n",
       "  </thead>\n",
       "  <tbody>\n",
       "    <tr>\n",
       "      <th>0</th>\n",
       "      <td>0</td>\n",
       "      <td>20190701</td>\n",
       "      <td>A000020</td>\n",
       "      <td>동화약품</td>\n",
       "      <td>0</td>\n",
       "      <td>1</td>\n",
       "      <td>의약품 제조업</td>\n",
       "      <td>31341</td>\n",
       "      <td>0.975751</td>\n",
       "      <td>1.652893</td>\n",
       "      <td>27931470.0</td>\n",
       "      <td>2.725415e+07</td>\n",
       "      <td>2019</td>\n",
       "      <td>7</td>\n",
       "      <td>201</td>\n",
       "      <td>201907</td>\n",
       "    </tr>\n",
       "    <tr>\n",
       "      <th>1</th>\n",
       "      <td>1</td>\n",
       "      <td>20190701</td>\n",
       "      <td>A000080</td>\n",
       "      <td>하이트진로</td>\n",
       "      <td>0</td>\n",
       "      <td>1</td>\n",
       "      <td>알코올음료 제조업</td>\n",
       "      <td>127186</td>\n",
       "      <td>2.032732</td>\n",
       "      <td>1.703163</td>\n",
       "      <td>70133611.0</td>\n",
       "      <td>1.425628e+08</td>\n",
       "      <td>2019</td>\n",
       "      <td>7</td>\n",
       "      <td>201</td>\n",
       "      <td>201907</td>\n",
       "    </tr>\n",
       "    <tr>\n",
       "      <th>2</th>\n",
       "      <td>2</td>\n",
       "      <td>20190701</td>\n",
       "      <td>A000100</td>\n",
       "      <td>유한양행</td>\n",
       "      <td>1</td>\n",
       "      <td>1</td>\n",
       "      <td>의약품 제조업</td>\n",
       "      <td>395757</td>\n",
       "      <td>25.620158</td>\n",
       "      <td>6.756757</td>\n",
       "      <td>66856810.0</td>\n",
       "      <td>1.712882e+09</td>\n",
       "      <td>2019</td>\n",
       "      <td>7</td>\n",
       "      <td>201</td>\n",
       "      <td>201907</td>\n",
       "    </tr>\n",
       "    <tr>\n",
       "      <th>3</th>\n",
       "      <td>3</td>\n",
       "      <td>20190701</td>\n",
       "      <td>A000120</td>\n",
       "      <td>CJ대한통운</td>\n",
       "      <td>0</td>\n",
       "      <td>1</td>\n",
       "      <td>도로 화물 운송업</td>\n",
       "      <td>62513</td>\n",
       "      <td>13.534785</td>\n",
       "      <td>2.930403</td>\n",
       "      <td>22812344.0</td>\n",
       "      <td>3.087602e+08</td>\n",
       "      <td>2019</td>\n",
       "      <td>7</td>\n",
       "      <td>201</td>\n",
       "      <td>201907</td>\n",
       "    </tr>\n",
       "    <tr>\n",
       "      <th>4</th>\n",
       "      <td>4</td>\n",
       "      <td>20190701</td>\n",
       "      <td>A000140</td>\n",
       "      <td>하이트진로홀딩스</td>\n",
       "      <td>1</td>\n",
       "      <td>1</td>\n",
       "      <td>기타 금융업</td>\n",
       "      <td>7661</td>\n",
       "      <td>0.900144</td>\n",
       "      <td>3.090508</td>\n",
       "      <td>23206765.0</td>\n",
       "      <td>2.088942e+07</td>\n",
       "      <td>2019</td>\n",
       "      <td>7</td>\n",
       "      <td>201</td>\n",
       "      <td>201907</td>\n",
       "    </tr>\n",
       "  </tbody>\n",
       "</table>\n",
       "</div>"
      ],
      "text/plain": [
       "   Unnamed: 0      기준일자     종목번호       종목명  20년7월TOP3대상여부  시장구분 표준산업구분코드_소분류  \\\n",
       "0           0  20190701  A000020      동화약품              0     1      의약품 제조업   \n",
       "1           1  20190701  A000080     하이트진로              0     1    알코올음료 제조업   \n",
       "2           2  20190701  A000100      유한양행              1     1      의약품 제조업   \n",
       "3           3  20190701  A000120    CJ대한통운              0     1    도로 화물 운송업   \n",
       "4           4  20190701  A000140  하이트진로홀딩스              1     1       기타 금융업   \n",
       "\n",
       "      거래량  주식가격_만원단위  종목고가 - 종목저가/종목시가       주식발행수          시가총액  year  month  \\\n",
       "0   31341   0.975751          1.652893  27931470.0  2.725415e+07  2019      7   \n",
       "1  127186   2.032732          1.703163  70133611.0  1.425628e+08  2019      7   \n",
       "2  395757  25.620158          6.756757  66856810.0  1.712882e+09  2019      7   \n",
       "3   62513  13.534785          2.930403  22812344.0  3.087602e+08  2019      7   \n",
       "4    7661   0.900144          3.090508  23206765.0  2.088942e+07  2019      7   \n",
       "\n",
       "   day    기준년월  \n",
       "0  201  201907  \n",
       "1  201  201907  \n",
       "2  201  201907  \n",
       "3  201  201907  \n",
       "4  201  201907  "
      ]
     },
     "execution_count": 31,
     "metadata": {},
     "output_type": "execute_result"
    }
   ],
   "source": [
    "stocks.head()"
   ]
  },
  {
   "cell_type": "code",
   "execution_count": 14,
   "metadata": {},
   "outputs": [
    {
     "data": {
      "text/plain": [
       "<matplotlib.axes._subplots.AxesSubplot at 0x1b981ee8808>"
      ]
     },
     "execution_count": 14,
     "metadata": {},
     "output_type": "execute_result"
    },
    {
     "data": {
      "image/png": "[encoded data removed]",
      "text/plain": [
       "<Figure size 432x288 with 1 Axes>"
      ]
     },
     "metadata": {},
     "output_type": "display_data"
    }
   ],
   "source": [
    "import matplotlib.pyplot as plt \n",
    "import seaborn as sns\n",
    "\n",
    "sns.set(font=\"Malgun Gothic\", \n",
    "        rc={\"axes.unicode_minus\":False},\n",
    "        style='darkgrid')\n",
    "\n",
    "# 한글폰트 설정 확인을 합니다.\n",
    "pd.Series([1, -1, 0, 5, -5]).plot(title=\"한글폰트\")"
   ]
  },
  {
   "cell_type": "code",
   "execution_count": 15,
   "metadata": {
    "scrolled": true
   },
   "outputs": [
    {
     "data": {
      "image/png": "[encoded data removed]",
      "text/plain": [
       "<Figure size 1080x1080 with 2 Axes>"
      ]
     },
     "metadata": {},
     "output_type": "display_data"
    }
   ],
   "source": [
    "corr = final.corr()\n",
    "# 그림 사이즈 지정\n",
    "fig, ax = plt.subplots(figsize=(15, 15))\n",
    "\n",
    "# 삼각형 마스크를 만든다(위 쪽 삼각형에 True, 아래 삼각형에 False)\n",
    "mask = np.zeros_like(corr, dtype=np.bool)\n",
    "mask[np.triu_indices_from(mask)] = True\n",
    "\n",
    "sns.heatmap(corr, \n",
    "            cmap = 'RdYlBu_r', \n",
    "            annot = True,   # 실제 값을 표시한다\n",
    "            mask=mask,      # 표시하지 않을 마스크 부분을 지정한다\n",
    "            linewidths=.5,  # 경계면 실선으로 구분하기\n",
    "            cbar_kws={\"shrink\": .5},# 컬러바 크기 절반으로 줄이기\n",
    "            vmin = -1,vmax = 1   # 컬러바 범위 -1 ~ 1\n",
    "           )  \n",
    "plt.show()"
   ]
  },
  {
   "cell_type": "code",
   "execution_count": 16,
   "metadata": {},
   "outputs": [],
   "source": [
    "final.to_csv(\"trade_add.csv\")"
   ]
  },
  {
   "cell_type": "code",
   "execution_count": 18,
   "metadata": {},
   "outputs": [],
   "source": [
    "stocks.to_csv(\"stocks_add.csv\")"
   ]
  },
  {
   "cell_type": "code",
   "execution_count": null,
   "metadata": {},
   "outputs": [],
   "source": []
  },
  {
   "cell_type": "markdown",
   "metadata": {},
   "source": [
    "#### 결측치 확인 & 전처리"
   ]
  },
  {
   "cell_type": "code",
   "execution_count": null,
   "metadata": {},
   "outputs": [],
   "source": [
    "# trade.info() null값 없음\n",
    "# stocks.info()"
   ]
  },
  {
   "cell_type": "code",
   "execution_count": null,
   "metadata": {
    "scrolled": false
   },
   "outputs": [],
   "source": [
    "# trade.rename(columns = {'Unnamed: 0' : 'index', '기준년월':'year_month', '그룹번호':'Group_num', '그룹내고객수':'Customer_cnt', \n",
    "#                        '종목번호':'Stock_num', '그룹내_매수여부':'Buying_YN', '그룹내_매도여부':'Selling_YN', '매수고객수':'Buyer_cnt',\n",
    "#                         '매도고객수':'Seller_cnt', '평균매수수량':'Buying_cnt_avg', '평균매도수량':'Selling_cnt_avg', \n",
    "#                         '매수가격_중앙값':'BuyingPrice_median', '매도가격_중앙값':'SellingPrice_median'}, inplace = True)\n",
    "# # trade.head()"
   ]
  },
  {
   "cell_type": "code",
   "execution_count": null,
   "metadata": {},
   "outputs": [],
   "source": [
    "trade = trade.astype({\n",
    "    'Buying_YN':int,\n",
    "    'Selling_YN':int\n",
    "})"
   ]
  },
  {
   "cell_type": "code",
   "execution_count": null,
   "metadata": {},
   "outputs": [],
   "source": [
    "# trade[\"Group_num\"].value_counts()\n",
    "# trade[\"Stock_num\"].value_counts()"
   ]
  },
  {
   "cell_type": "code",
   "execution_count": null,
   "metadata": {},
   "outputs": [],
   "source": [
    "df=trade.drop(\"index\", axis=1)\n",
    "# df.head()\n",
    "# df.shape"
   ]
  },
  {
   "cell_type": "markdown",
   "metadata": {},
   "source": [
    "#### 시간 변수 추가"
   ]
  },
  {
   "cell_type": "code",
   "execution_count": null,
   "metadata": {
    "scrolled": false
   },
   "outputs": [],
   "source": [
    "df[\"datetime\"] = pd.to_datetime(df[\"year_month\"], format='%Y%m')\n",
    "df.head()"
   ]
  },
  {
   "cell_type": "code",
   "execution_count": null,
   "metadata": {},
   "outputs": [],
   "source": [
    "group = df[\"Group_num\"].values\n",
    "group = pd.unique(group)\n",
    "group # len(group)=48"
   ]
  },
  {
   "cell_type": "markdown",
   "metadata": {},
   "source": [
    "- 상관관계 조사"
   ]
  },
  {
   "cell_type": "markdown",
   "metadata": {},
   "source": [
    "#### 평균 매수/매도 금액 feature 추가"
   ]
  },
  {
   "cell_type": "code",
   "execution_count": null,
   "metadata": {},
   "outputs": [],
   "source": [
    "df2 = trade_merge.copy()\n",
    "df2[\"BuyingPrice_avg\"] = (df2[\"Buying_cnt_avg\"]*df2[\"BuyingPrice_median\"])//df2[\"Buyer_cnt\"]\n",
    "df2[\"SellingPrice_avg\"] = (df2[\"Selling_cnt_avg\"]*df2[\"SellingPrice_median\"])//df2[\"Seller_cnt\"]\n",
    "df2.head()"
   ]
  },
  {
   "cell_type": "markdown",
   "metadata": {},
   "source": [
    "평균 매수/매도 금액 feature 상관관계 약함"
   ]
  },
  {
   "cell_type": "code",
   "execution_count": null,
   "metadata": {
    "scrolled": true
   },
   "outputs": [],
   "source": [
    "corr_matrix = trade_merge.corr()\n",
    "corr_matrix[\"Buyer_cnt\"].sort_values(ascending=False)"
   ]
  },
  {
   "cell_type": "code",
   "execution_count": null,
   "metadata": {},
   "outputs": [],
   "source": [
    "attributes = [\"Seller_cnt\", \"Top3_YN\", \"Customer_cnt\", \"BuyingPrice_median\", \"SellingPrice_median\"]\n",
    "scatter_matrix(trade_merge[attributes], figsize=(12, 8))"
   ]
  },
  {
   "cell_type": "code",
   "execution_count": null,
   "metadata": {},
   "outputs": [],
   "source": [
    "stock_num=stocks[\"종목번호\"].values\n",
    "stock_num=pd.unique(stock_num)\n",
    "len(stock_num)"
   ]
  },
  {
   "cell_type": "markdown",
   "metadata": {},
   "source": [
    "#### Binary Encoding"
   ]
  },
  {
   "cell_type": "markdown",
   "metadata": {},
   "source": [
    "일반적으로 ONE-HOT ENCODING이 많이 쓰이지만 처리 후 변수의 갯수가 너무 많을 때 모델 성능이 떨어진다.\n",
    "그래서 변수갯수를 줄이기 위해 BINARY ENCODING을 사용한다"
   ]
  },
  {
   "cell_type": "markdown",
   "metadata": {},
   "source": [
    "참고 자료: https://techblog-history-younghunjo1.tistory.com/99?category=863123"
   ]
  },
  {
   "cell_type": "markdown",
   "metadata": {},
   "source": [
    "pip install --upgrade category_encoders"
   ]
  },
  {
   "cell_type": "code",
   "execution_count": 32,
   "metadata": {},
   "outputs": [],
   "source": [
    "import category_encoders as ce\n",
    "\n",
    "#Create object for binary encoding\n",
    "encoder= ce.BinaryEncoder(cols=['표준산업구분코드_소분류'],return_df=True)"
   ]
  },
  {
   "cell_type": "code",
   "execution_count": 33,
   "metadata": {},
   "outputs": [
    {
     "data": {
      "text/html": [
       "<div>\n",
       "<style scoped>\n",
       "    .dataframe tbody tr th:only-of-type {\n",
       "        vertical-align: middle;\n",
       "    }\n",
       "\n",
       "    .dataframe tbody tr th {\n",
       "        vertical-align: top;\n",
       "    }\n",
       "\n",
       "    .dataframe thead th {\n",
       "        text-align: right;\n",
       "    }\n",
       "</style>\n",
       "<table border=\"1\" class=\"dataframe\">\n",
       "  <thead>\n",
       "    <tr style=\"text-align: right;\">\n",
       "      <th></th>\n",
       "      <th>Unnamed: 0</th>\n",
       "      <th>기준일자</th>\n",
       "      <th>종목번호</th>\n",
       "      <th>종목명</th>\n",
       "      <th>20년7월TOP3대상여부</th>\n",
       "      <th>시장구분</th>\n",
       "      <th>표준산업구분코드_소분류_0</th>\n",
       "      <th>표준산업구분코드_소분류_1</th>\n",
       "      <th>표준산업구분코드_소분류_2</th>\n",
       "      <th>표준산업구분코드_소분류_3</th>\n",
       "      <th>...</th>\n",
       "      <th>표준산업구분코드_소분류_7</th>\n",
       "      <th>거래량</th>\n",
       "      <th>주식가격_만원단위</th>\n",
       "      <th>종목고가 - 종목저가/종목시가</th>\n",
       "      <th>주식발행수</th>\n",
       "      <th>시가총액</th>\n",
       "      <th>year</th>\n",
       "      <th>month</th>\n",
       "      <th>day</th>\n",
       "      <th>기준년월</th>\n",
       "    </tr>\n",
       "  </thead>\n",
       "  <tbody>\n",
       "    <tr>\n",
       "      <th>0</th>\n",
       "      <td>0</td>\n",
       "      <td>20190701</td>\n",
       "      <td>A000020</td>\n",
       "      <td>동화약품</td>\n",
       "      <td>0</td>\n",
       "      <td>1</td>\n",
       "      <td>0</td>\n",
       "      <td>0</td>\n",
       "      <td>0</td>\n",
       "      <td>0</td>\n",
       "      <td>...</td>\n",
       "      <td>1</td>\n",
       "      <td>31341</td>\n",
       "      <td>0.975751</td>\n",
       "      <td>1.652893</td>\n",
       "      <td>27931470.0</td>\n",
       "      <td>2.725415e+07</td>\n",
       "      <td>2019</td>\n",
       "      <td>7</td>\n",
       "      <td>201</td>\n",
       "      <td>201907</td>\n",
       "    </tr>\n",
       "    <tr>\n",
       "      <th>1</th>\n",
       "      <td>1</td>\n",
       "      <td>20190701</td>\n",
       "      <td>A000080</td>\n",
       "      <td>하이트진로</td>\n",
       "      <td>0</td>\n",
       "      <td>1</td>\n",
       "      <td>0</td>\n",
       "      <td>0</td>\n",
       "      <td>0</td>\n",
       "      <td>0</td>\n",
       "      <td>...</td>\n",
       "      <td>0</td>\n",
       "      <td>127186</td>\n",
       "      <td>2.032732</td>\n",
       "      <td>1.703163</td>\n",
       "      <td>70133611.0</td>\n",
       "      <td>1.425628e+08</td>\n",
       "      <td>2019</td>\n",
       "      <td>7</td>\n",
       "      <td>201</td>\n",
       "      <td>201907</td>\n",
       "    </tr>\n",
       "    <tr>\n",
       "      <th>2</th>\n",
       "      <td>2</td>\n",
       "      <td>20190701</td>\n",
       "      <td>A000100</td>\n",
       "      <td>유한양행</td>\n",
       "      <td>1</td>\n",
       "      <td>1</td>\n",
       "      <td>0</td>\n",
       "      <td>0</td>\n",
       "      <td>0</td>\n",
       "      <td>0</td>\n",
       "      <td>...</td>\n",
       "      <td>1</td>\n",
       "      <td>395757</td>\n",
       "      <td>25.620158</td>\n",
       "      <td>6.756757</td>\n",
       "      <td>66856810.0</td>\n",
       "      <td>1.712882e+09</td>\n",
       "      <td>2019</td>\n",
       "      <td>7</td>\n",
       "      <td>201</td>\n",
       "      <td>201907</td>\n",
       "    </tr>\n",
       "    <tr>\n",
       "      <th>3</th>\n",
       "      <td>3</td>\n",
       "      <td>20190701</td>\n",
       "      <td>A000120</td>\n",
       "      <td>CJ대한통운</td>\n",
       "      <td>0</td>\n",
       "      <td>1</td>\n",
       "      <td>0</td>\n",
       "      <td>0</td>\n",
       "      <td>0</td>\n",
       "      <td>0</td>\n",
       "      <td>...</td>\n",
       "      <td>1</td>\n",
       "      <td>62513</td>\n",
       "      <td>13.534785</td>\n",
       "      <td>2.930403</td>\n",
       "      <td>22812344.0</td>\n",
       "      <td>3.087602e+08</td>\n",
       "      <td>2019</td>\n",
       "      <td>7</td>\n",
       "      <td>201</td>\n",
       "      <td>201907</td>\n",
       "    </tr>\n",
       "    <tr>\n",
       "      <th>4</th>\n",
       "      <td>4</td>\n",
       "      <td>20190701</td>\n",
       "      <td>A000140</td>\n",
       "      <td>하이트진로홀딩스</td>\n",
       "      <td>1</td>\n",
       "      <td>1</td>\n",
       "      <td>0</td>\n",
       "      <td>0</td>\n",
       "      <td>0</td>\n",
       "      <td>0</td>\n",
       "      <td>...</td>\n",
       "      <td>0</td>\n",
       "      <td>7661</td>\n",
       "      <td>0.900144</td>\n",
       "      <td>3.090508</td>\n",
       "      <td>23206765.0</td>\n",
       "      <td>2.088942e+07</td>\n",
       "      <td>2019</td>\n",
       "      <td>7</td>\n",
       "      <td>201</td>\n",
       "      <td>201907</td>\n",
       "    </tr>\n",
       "    <tr>\n",
       "      <th>...</th>\n",
       "      <td>...</td>\n",
       "      <td>...</td>\n",
       "      <td>...</td>\n",
       "      <td>...</td>\n",
       "      <td>...</td>\n",
       "      <td>...</td>\n",
       "      <td>...</td>\n",
       "      <td>...</td>\n",
       "      <td>...</td>\n",
       "      <td>...</td>\n",
       "      <td>...</td>\n",
       "      <td>...</td>\n",
       "      <td>...</td>\n",
       "      <td>...</td>\n",
       "      <td>...</td>\n",
       "      <td>...</td>\n",
       "      <td>...</td>\n",
       "      <td>...</td>\n",
       "      <td>...</td>\n",
       "      <td>...</td>\n",
       "      <td>...</td>\n",
       "    </tr>\n",
       "    <tr>\n",
       "      <th>286056</th>\n",
       "      <td>286056</td>\n",
       "      <td>20200728</td>\n",
       "      <td>A336370</td>\n",
       "      <td>두산솔루스</td>\n",
       "      <td>0</td>\n",
       "      <td>1</td>\n",
       "      <td>0</td>\n",
       "      <td>0</td>\n",
       "      <td>0</td>\n",
       "      <td>1</td>\n",
       "      <td>...</td>\n",
       "      <td>0</td>\n",
       "      <td>1764085</td>\n",
       "      <td>3.829229</td>\n",
       "      <td>5.802969</td>\n",
       "      <td>30589758.0</td>\n",
       "      <td>1.171352e+08</td>\n",
       "      <td>2020</td>\n",
       "      <td>7</td>\n",
       "      <td>202</td>\n",
       "      <td>202007</td>\n",
       "    </tr>\n",
       "    <tr>\n",
       "      <th>286057</th>\n",
       "      <td>286057</td>\n",
       "      <td>20200728</td>\n",
       "      <td>A33637K</td>\n",
       "      <td>두산솔루스1우</td>\n",
       "      <td>0</td>\n",
       "      <td>1</td>\n",
       "      <td>0</td>\n",
       "      <td>0</td>\n",
       "      <td>0</td>\n",
       "      <td>1</td>\n",
       "      <td>...</td>\n",
       "      <td>0</td>\n",
       "      <td>302925</td>\n",
       "      <td>1.867208</td>\n",
       "      <td>7.734807</td>\n",
       "      <td>7366400.0</td>\n",
       "      <td>1.375460e+07</td>\n",
       "      <td>2020</td>\n",
       "      <td>7</td>\n",
       "      <td>202</td>\n",
       "      <td>202007</td>\n",
       "    </tr>\n",
       "    <tr>\n",
       "      <th>286058</th>\n",
       "      <td>286058</td>\n",
       "      <td>20200728</td>\n",
       "      <td>A33637L</td>\n",
       "      <td>두산솔루스2우B</td>\n",
       "      <td>0</td>\n",
       "      <td>1</td>\n",
       "      <td>0</td>\n",
       "      <td>0</td>\n",
       "      <td>0</td>\n",
       "      <td>1</td>\n",
       "      <td>...</td>\n",
       "      <td>0</td>\n",
       "      <td>59460</td>\n",
       "      <td>3.770838</td>\n",
       "      <td>5.810811</td>\n",
       "      <td>1646050.0</td>\n",
       "      <td>6.206987e+06</td>\n",
       "      <td>2020</td>\n",
       "      <td>7</td>\n",
       "      <td>202</td>\n",
       "      <td>202007</td>\n",
       "    </tr>\n",
       "    <tr>\n",
       "      <th>286059</th>\n",
       "      <td>286059</td>\n",
       "      <td>20200728</td>\n",
       "      <td>A344820</td>\n",
       "      <td>케이씨씨글라스</td>\n",
       "      <td>0</td>\n",
       "      <td>1</td>\n",
       "      <td>0</td>\n",
       "      <td>0</td>\n",
       "      <td>1</td>\n",
       "      <td>0</td>\n",
       "      <td>...</td>\n",
       "      <td>0</td>\n",
       "      <td>56962</td>\n",
       "      <td>3.274973</td>\n",
       "      <td>3.731343</td>\n",
       "      <td>8350210.0</td>\n",
       "      <td>2.734671e+07</td>\n",
       "      <td>2020</td>\n",
       "      <td>7</td>\n",
       "      <td>202</td>\n",
       "      <td>202007</td>\n",
       "    </tr>\n",
       "    <tr>\n",
       "      <th>286060</th>\n",
       "      <td>286060</td>\n",
       "      <td>20200728</td>\n",
       "      <td>A353810</td>\n",
       "      <td>이지바이오</td>\n",
       "      <td>1</td>\n",
       "      <td>0</td>\n",
       "      <td>0</td>\n",
       "      <td>0</td>\n",
       "      <td>1</td>\n",
       "      <td>0</td>\n",
       "      <td>...</td>\n",
       "      <td>0</td>\n",
       "      <td>76761</td>\n",
       "      <td>5.863264</td>\n",
       "      <td>4.923599</td>\n",
       "      <td>2286728.0</td>\n",
       "      <td>1.340769e+07</td>\n",
       "      <td>2020</td>\n",
       "      <td>7</td>\n",
       "      <td>202</td>\n",
       "      <td>202007</td>\n",
       "    </tr>\n",
       "  </tbody>\n",
       "</table>\n",
       "<p>286061 rows × 23 columns</p>\n",
       "</div>"
      ],
      "text/plain": [
       "        Unnamed: 0      기준일자     종목번호       종목명  20년7월TOP3대상여부  시장구분  \\\n",
       "0                0  20190701  A000020      동화약품              0     1   \n",
       "1                1  20190701  A000080     하이트진로              0     1   \n",
       "2                2  20190701  A000100      유한양행              1     1   \n",
       "3                3  20190701  A000120    CJ대한통운              0     1   \n",
       "4                4  20190701  A000140  하이트진로홀딩스              1     1   \n",
       "...            ...       ...      ...       ...            ...   ...   \n",
       "286056      286056  20200728  A336370     두산솔루스              0     1   \n",
       "286057      286057  20200728  A33637K   두산솔루스1우              0     1   \n",
       "286058      286058  20200728  A33637L  두산솔루스2우B              0     1   \n",
       "286059      286059  20200728  A344820   케이씨씨글라스              0     1   \n",
       "286060      286060  20200728  A353810     이지바이오              1     0   \n",
       "\n",
       "        표준산업구분코드_소분류_0  표준산업구분코드_소분류_1  표준산업구분코드_소분류_2  표준산업구분코드_소분류_3  ...  \\\n",
       "0                    0               0               0               0  ...   \n",
       "1                    0               0               0               0  ...   \n",
       "2                    0               0               0               0  ...   \n",
       "3                    0               0               0               0  ...   \n",
       "4                    0               0               0               0  ...   \n",
       "...                ...             ...             ...             ...  ...   \n",
       "286056               0               0               0               1  ...   \n",
       "286057               0               0               0               1  ...   \n",
       "286058               0               0               0               1  ...   \n",
       "286059               0               0               1               0  ...   \n",
       "286060               0               0               1               0  ...   \n",
       "\n",
       "        표준산업구분코드_소분류_7      거래량  주식가격_만원단위  종목고가 - 종목저가/종목시가       주식발행수  \\\n",
       "0                    1    31341   0.975751          1.652893  27931470.0   \n",
       "1                    0   127186   2.032732          1.703163  70133611.0   \n",
       "2                    1   395757  25.620158          6.756757  66856810.0   \n",
       "3                    1    62513  13.534785          2.930403  22812344.0   \n",
       "4                    0     7661   0.900144          3.090508  23206765.0   \n",
       "...                ...      ...        ...               ...         ...   \n",
       "286056               0  1764085   3.829229          5.802969  30589758.0   \n",
       "286057               0   302925   1.867208          7.734807   7366400.0   \n",
       "286058               0    59460   3.770838          5.810811   1646050.0   \n",
       "286059               0    56962   3.274973          3.731343   8350210.0   \n",
       "286060               0    76761   5.863264          4.923599   2286728.0   \n",
       "\n",
       "                시가총액  year  month  day    기준년월  \n",
       "0       2.725415e+07  2019      7  201  201907  \n",
       "1       1.425628e+08  2019      7  201  201907  \n",
       "2       1.712882e+09  2019      7  201  201907  \n",
       "3       3.087602e+08  2019      7  201  201907  \n",
       "4       2.088942e+07  2019      7  201  201907  \n",
       "...              ...   ...    ...  ...     ...  \n",
       "286056  1.171352e+08  2020      7  202  202007  \n",
       "286057  1.375460e+07  2020      7  202  202007  \n",
       "286058  6.206987e+06  2020      7  202  202007  \n",
       "286059  2.734671e+07  2020      7  202  202007  \n",
       "286060  1.340769e+07  2020      7  202  202007  \n",
       "\n",
       "[286061 rows x 23 columns]"
      ]
     },
     "execution_count": 33,
     "metadata": {},
     "output_type": "execute_result"
    }
   ],
   "source": [
    "#Fit and Transform Data \n",
    "data_encoded=encoder.fit_transform(stocks) \n",
    "data_encoded"
   ]
  },
  {
   "cell_type": "code",
   "execution_count": null,
   "metadata": {},
   "outputs": [],
   "source": [
    "from matplotlib.pyplot import figure\n",
    "from datetime import datetime   # 패키지 - 모듈 (이름 같음)\n",
    "df.info()"
   ]
  },
  {
   "cell_type": "code",
   "execution_count": null,
   "metadata": {
    "scrolled": false
   },
   "outputs": [],
   "source": [
    "figure(num=None, figsize=(8, 6), dpi=80, facecolor='w', edgecolor='k')\n",
    "\n",
    "x=df['기준년월']\n",
    "y=df['평균매수수량']\n",
    "plt.legend(df['종목번호'])\n",
    "plt.plot(x,y)"
   ]
  },
  {
   "cell_type": "code",
   "execution_count": null,
   "metadata": {},
   "outputs": [],
   "source": [
    "df2=df[df['그룹내_매수여부']=='Y']\n",
    "df2= df2[[\"기준년월\", \"그룹번호\", \"그룹내고객수\", \"종목번호\", \"매수고객수\", \"매도고객수\", \"평균매수수량\", \"평균매도수량\", \"매수가격_중앙값\", \"매도가격_중앙값\"]]\n",
    "df2"
   ]
  },
  {
   "cell_type": "code",
   "execution_count": null,
   "metadata": {},
   "outputs": [],
   "source": [
    "df2[\"평균매수액\"]=df2[\"평균매수수량\"]*df2[\"매수가격_중앙값\"]/df2[\"그룹내고객수\"]\n",
    "df2"
   ]
  },
  {
   "cell_type": "code",
   "execution_count": null,
   "metadata": {},
   "outputs": [],
   "source": [
    "df2[\"평균매수액\"]=np.round(df2[\"평균매수액\"], decimals=0)"
   ]
  },
  {
   "cell_type": "code",
   "execution_count": null,
   "metadata": {
    "scrolled": false
   },
   "outputs": [],
   "source": [
    "df2[df2[\"종목번호\"]=='A000660']"
   ]
  },
  {
   "cell_type": "code",
   "execution_count": null,
   "metadata": {},
   "outputs": [],
   "source": [
    "df3=stocks[stocks[\"20년7월TOP3대상여부\"]=='Y']\n",
    "df3.drop_duplicates()"
   ]
  },
  {
   "cell_type": "code",
   "execution_count": null,
   "metadata": {
    "scrolled": true
   },
   "outputs": [],
   "source": [
    "df3[\"종목명\"].drop_duplicates()"
   ]
  },
  {
   "cell_type": "code",
   "execution_count": 35,
   "metadata": {},
   "outputs": [],
   "source": [
    "a=[[1,2],[2,1]]\n",
    "b=[[4,1],[2,2]]"
   ]
  },
  {
   "cell_type": "code",
   "execution_count": 36,
   "metadata": {},
   "outputs": [
    {
     "data": {
      "text/plain": [
       "array([[ 8,  5],\n",
       "       [10,  4]])"
      ]
     },
     "execution_count": 36,
     "metadata": {},
     "output_type": "execute_result"
    }
   ],
   "source": [
    "np.dot(a,b)"
   ]
  },
  {
   "cell_type": "code",
   "execution_count": 37,
   "metadata": {},
   "outputs": [
    {
     "data": {
      "text/plain": [
       "[[1, 2], [2, 1]]"
      ]
     },
     "execution_count": 37,
     "metadata": {},
     "output_type": "execute_result"
    }
   ],
   "source": [
    "a"
   ]
  },
  {
   "cell_type": "code",
   "execution_count": 38,
   "metadata": {},
   "outputs": [],
   "source": [
    "def crash_course(dltr):\n",
    "    result=0\n",
    "    temp=1\n",
    "    \n",
    "    for i in range(1,dltr):\n",
    "        temp=temp*i\n",
    "        for k in range(i):\n",
    "            result += temp\n",
    "    return result"
   ]
  },
  {
   "cell_type": "code",
   "execution_count": 39,
   "metadata": {},
   "outputs": [
    {
     "name": "stdout",
     "output_type": "stream",
     "text": [
      "Result is:  23\n"
     ]
    }
   ],
   "source": [
    "print( \"Result is: \", crash_course(4)) "
   ]
  },
  {
   "cell_type": "code",
   "execution_count": 40,
   "metadata": {},
   "outputs": [
    {
     "data": {
      "text/plain": [
       "array([-7,  2])"
      ]
     },
     "execution_count": 40,
     "metadata": {},
     "output_type": "execute_result"
    }
   ],
   "source": [
    "np.cross(a,b)"
   ]
  },
  {
   "cell_type": "code",
   "execution_count": 41,
   "metadata": {},
   "outputs": [
    {
     "name": "stdout",
     "output_type": "stream",
     "text": [
      "3\n",
      "5\n",
      "4\n"
     ]
    }
   ],
   "source": [
    "def y(x):\n",
    "    global a\n",
    "    a=4\n",
    "    return 0\n",
    "\n",
    "def f(a):\n",
    "    a=3\n",
    "    print(a)\n",
    "    return a\n",
    "\n",
    "a=5\n",
    "f(a)\n",
    "print(a)\n",
    "y(a)\n",
    "print(a)\n"
   ]
  },
  {
   "cell_type": "code",
   "execution_count": 42,
   "metadata": {},
   "outputs": [],
   "source": [
    "arr = [1.4,3.7,4.8,6.3,99.9]"
   ]
  },
  {
   "cell_type": "code",
   "execution_count": 43,
   "metadata": {},
   "outputs": [],
   "source": [
    "x = arr.pop(2)"
   ]
  },
  {
   "cell_type": "code",
   "execution_count": 44,
   "metadata": {},
   "outputs": [
    {
     "data": {
      "text/plain": [
       "4.8"
      ]
     },
     "execution_count": 44,
     "metadata": {},
     "output_type": "execute_result"
    }
   ],
   "source": [
    "x"
   ]
  },
  {
   "cell_type": "code",
   "execution_count": 47,
   "metadata": {},
   "outputs": [],
   "source": [
    "arr=np.array([[1, 2, 3], [4, 5, 6]])"
   ]
  },
  {
   "cell_type": "code",
   "execution_count": 48,
   "metadata": {},
   "outputs": [
    {
     "data": {
      "text/plain": [
       "array([[1, 4],\n",
       "       [2, 5],\n",
       "       [3, 6]])"
      ]
     },
     "execution_count": 48,
     "metadata": {},
     "output_type": "execute_result"
    }
   ],
   "source": [
    "arr.T"
   ]
  },
  {
   "cell_type": "code",
   "execution_count": null,
   "metadata": {},
   "outputs": [],
   "source": []
  },
  {
   "cell_type": "code",
   "execution_count": null,
   "metadata": {},
   "outputs": [],
   "source": []
  },
  {
   "cell_type": "markdown",
   "metadata": {},
   "source": [
    "https://github.com/demetere/Retail-Data-Analytics-Project/blob/ec5b60eb698d4cd4df1f67e67b18165ce1aad058/models/classification/classification.ipynb"
   ]
  },
  {
   "cell_type": "markdown",
   "metadata": {},
   "source": [
    "#### Goals\n",
    ": 14일 이내에 재구매할 고객 예측"
   ]
  },
  {
   "cell_type": "markdown",
   "metadata": {},
   "source": [
    "#### Steps\n",
    "- Import Libraries\n",
    "- Collecting Data\n",
    "- Preparing Data\n",
    "- Feature Engineering\n",
    "- Train Model\n",
    "- Predict\n",
    "- Conclusion"
   ]
  },
  {
   "cell_type": "markdown",
   "metadata": {},
   "source": [
    "### Feature 3. 시장구분(코스피, 코스닥)\n",
    "코스피 시장인지 코스닥시장인지 구분필요\n",
    "### Feature 4 ~6 표준산업구분 코드_대분류, 중분류, 소분류."
   ]
  },
  {
   "cell_type": "markdown",
   "metadata": {},
   "source": [
    "### TR 구하는 공식\n",
    "아래 세가지의 경우에서 절대값으로 가장 큰 값이 TR이 된다.\n",
    "\n",
    "1. 금일의 고가 - 금일의 저가\n",
    "2. 금일의 고가 - 전일의 종가\n",
    "3. 금일의 저가 - 전일의 종가\n"
   ]
  },
  {
   "cell_type": "code",
   "execution_count": null,
   "metadata": {},
   "outputs": [],
   "source": [
    "df_tr = stocks1.copy()\n",
    "df_tr['전일종가'] = df_tr.groupby('stock_num')['종목종가'].shift(1)\n",
    "df_tr.head()"
   ]
  },
  {
   "cell_type": "code",
   "execution_count": null,
   "metadata": {
    "scrolled": true
   },
   "outputs": [],
   "source": [
    "# 금일의 고가 - 금일의 저가\n",
    "df_tr['금일고가_금일저가'] = abs(df_tr['종목고가'] - df_tr['종목저가'])\n",
    "# 금일의 고가 - 전일의 종가\n",
    "df_tr['금일고가_전일종가'] = abs(df_tr['종목고가'] - df_tr['전일종가'])\n",
    "# 금일의 저가 - 전일의 종가\n",
    "df_tr['금일저가_전일종가'] = abs(df_tr['종목저가'] - df_tr['전일종가'])\n",
    "\n",
    "df_tr[\"금일고가_전일종가\"] = df_tr[\"금일고가_전일종가\"].fillna(0)\n",
    "df_tr[\"금일저가_전일종가\"] = df_tr[\"금일저가_전일종가\"].fillna(0)"
   ]
  },
  {
   "cell_type": "code",
   "execution_count": null,
   "metadata": {},
   "outputs": [],
   "source": [
    "arr1 = df_tr[\"금일고가_금일저가\"].values\n",
    "arr2 = df_tr[\"금일고가_전일종가\"].values\n",
    "arr3 = df_tr[\"금일저가_전일종가\"].values\n",
    "\n",
    "array = np.array([arr1, arr2, arr3])\n",
    "tr_max = array.max(axis=0)\n",
    "tr = pd.DataFrame({'tr':tr_max}, columns=['tr'])\n",
    "\n",
    "stocks_df = stocks1.copy()\n",
    "stocks_df[\"TR\"]=tr\n",
    "stocks_df.head()"
   ]
  },
  {
   "cell_type": "code",
   "execution_count": null,
   "metadata": {},
   "outputs": [],
   "source": [
    "# df2 = stocks1.copy()\n",
    "# pd.merge(df2, mean, on='stock_num')"
   ]
  },
  {
   "cell_type": "code",
   "execution_count": null,
   "metadata": {
    "scrolled": true
   },
   "outputs": [],
   "source": [
    "stocks_df.astype({\n",
    "    \"기준일자\": 'object',\n",
    "    \"TR\": 'int'\n",
    "})\n",
    "\n",
    "stocks_df[\"datetime\"] = pd.to_datetime(df_tr[\"기준일자\"], format='%Y%m%d')\n",
    "stocks_df.head()"
   ]
  },
  {
   "cell_type": "code",
   "execution_count": null,
   "metadata": {},
   "outputs": [],
   "source": [
    "beta_group1 = stocks_df[stocks_df[\"beta_group\"]==1]\n",
    "beta_group2 = stocks_df[stocks_df[\"beta_group\"]==2]\n",
    "beta_group3 = stocks_df[stocks_df[\"beta_group\"]==3]"
   ]
  },
  {
   "cell_type": "code",
   "execution_count": null,
   "metadata": {},
   "outputs": [],
   "source": [
    "beta_group1.groupby(['datetime', 'stock_num'])['TR'].sum().unstack().dropna(axis=1).plot(figsize=(10,5),legend=None)\n",
    "plt.title(\"beta_group1's TR trend\")\n",
    "plt.grid(color = 'lightgrey', alpha=0.5, linestyle='--') \n",
    "\n",
    "beta_group2.groupby(['datetime', 'stock_num'])['TR'].sum().unstack().dropna(axis=1).plot(figsize=(10,5),legend=None)\n",
    "plt.title(\"beta_group2's TR trend\")\n",
    "plt.grid(color = 'lightgrey', alpha=0.5, linestyle='--') \n",
    "\n",
    "beta_group3.groupby(['datetime', 'stock_num'])['TR'].sum().unstack().dropna(axis=1).plot(figsize=(10,5),legend=None)\n",
    "plt.title(\"beta_group3's TR trend\")\n",
    "plt.grid(color = 'lightgrey', alpha=0.5, linestyle='--') "
   ]
  },
  {
   "cell_type": "code",
   "execution_count": null,
   "metadata": {},
   "outputs": [],
   "source": [
    "df_2020 = stocks_df[stocks_df[\"datetime\"].dt.year==2020]\n",
    "beta_group1 = df_2020[df_2020[\"beta_group\"]==1]\n",
    "beta_group2 = df_2020[df_2020[\"beta_group\"]==2]\n",
    "beta_group3 = df_2020[df_2020[\"beta_group\"]==3]\n",
    "\n",
    "beta_group1.groupby(['datetime', 'stock_num'])['TR'].sum().unstack().dropna(axis=1).plot(figsize=(10,5),legend=None)\n",
    "plt.title(\"beta_group1's TR 2020 trend\")\n",
    "plt.grid(color = 'lightgrey', alpha=0.5, linestyle='--') \n",
    "\n",
    "beta_group2.groupby(['datetime', 'stock_num'])['TR'].sum().unstack().dropna(axis=1).plot(figsize=(10,5),legend=None)\n",
    "plt.title(\"beta_group2's TR 2020 trend\")\n",
    "plt.grid(color = 'lightgrey', alpha=0.5, linestyle='--') \n",
    "\n",
    "beta_group3.groupby(['datetime', 'stock_num'])['TR'].sum().unstack().dropna(axis=1).plot(figsize=(10,5),legend=None)\n",
    "plt.title(\"beta_group3's TR 2020 trend\")\n",
    "plt.grid(color = 'lightgrey', alpha=0.5, linestyle='--') "
   ]
  },
  {
   "cell_type": "code",
   "execution_count": null,
   "metadata": {},
   "outputs": [],
   "source": [
    "stocks_df.columns"
   ]
  },
  {
   "cell_type": "code",
   "execution_count": null,
   "metadata": {},
   "outputs": [],
   "source": [
    "stocks_cl = stocks_df[[\"datetime\", \"stock_num\", \"종목명\", \"시장구분\",'거래량', '거래금액_만원단위', \n",
    "                       'beta_value', 'beta_group', 'TR', '20년7월TOP3대상여부' ]]\n",
    "stocks_cl.head()"
   ]
  },
  {
   "cell_type": "code",
   "execution_count": 23,
   "metadata": {},
   "outputs": [],
   "source": [
    "stocks.loc[stocks['시장구분']=='코스피','시장구분']=1\n",
    "stocks.loc[stocks['시장구분']=='코스닥','시장구분']=0\n",
    "\n",
    "stocks.loc[stocks['20년7월TOP3대상여부']=='Y','20년7월TOP3대상여부']=1\n",
    "stocks.loc[stocks['20년7월TOP3대상여부']=='N','20년7월TOP3대상여부']=0"
   ]
  },
  {
   "cell_type": "code",
   "execution_count": 24,
   "metadata": {},
   "outputs": [
    {
     "data": {
      "text/html": [
       "<div>\n",
       "<style scoped>\n",
       "    .dataframe tbody tr th:only-of-type {\n",
       "        vertical-align: middle;\n",
       "    }\n",
       "\n",
       "    .dataframe tbody tr th {\n",
       "        vertical-align: top;\n",
       "    }\n",
       "\n",
       "    .dataframe thead th {\n",
       "        text-align: right;\n",
       "    }\n",
       "</style>\n",
       "<table border=\"1\" class=\"dataframe\">\n",
       "  <thead>\n",
       "    <tr style=\"text-align: right;\">\n",
       "      <th></th>\n",
       "      <th>Unnamed: 0</th>\n",
       "      <th>기준일자</th>\n",
       "      <th>종목번호</th>\n",
       "      <th>종목명</th>\n",
       "      <th>20년7월TOP3대상여부</th>\n",
       "      <th>시장구분</th>\n",
       "      <th>표준산업구분코드_소분류</th>\n",
       "      <th>거래량</th>\n",
       "      <th>주식가격_만원단위</th>\n",
       "      <th>종목고가 - 종목저가/종목시가</th>\n",
       "      <th>주식발행수</th>\n",
       "      <th>시가총액</th>\n",
       "      <th>year</th>\n",
       "      <th>month</th>\n",
       "      <th>day</th>\n",
       "      <th>기준년월</th>\n",
       "    </tr>\n",
       "  </thead>\n",
       "  <tbody>\n",
       "    <tr>\n",
       "      <th>0</th>\n",
       "      <td>0</td>\n",
       "      <td>20190701</td>\n",
       "      <td>A000020</td>\n",
       "      <td>동화약품</td>\n",
       "      <td>0</td>\n",
       "      <td>1</td>\n",
       "      <td>의약품 제조업</td>\n",
       "      <td>31341</td>\n",
       "      <td>0.975751</td>\n",
       "      <td>1.652893</td>\n",
       "      <td>27931470.0</td>\n",
       "      <td>2.725415e+07</td>\n",
       "      <td>2019</td>\n",
       "      <td>7</td>\n",
       "      <td>201</td>\n",
       "      <td>201907</td>\n",
       "    </tr>\n",
       "    <tr>\n",
       "      <th>1</th>\n",
       "      <td>1</td>\n",
       "      <td>20190701</td>\n",
       "      <td>A000080</td>\n",
       "      <td>하이트진로</td>\n",
       "      <td>0</td>\n",
       "      <td>1</td>\n",
       "      <td>알코올음료 제조업</td>\n",
       "      <td>127186</td>\n",
       "      <td>2.032732</td>\n",
       "      <td>1.703163</td>\n",
       "      <td>70133611.0</td>\n",
       "      <td>1.425628e+08</td>\n",
       "      <td>2019</td>\n",
       "      <td>7</td>\n",
       "      <td>201</td>\n",
       "      <td>201907</td>\n",
       "    </tr>\n",
       "    <tr>\n",
       "      <th>2</th>\n",
       "      <td>2</td>\n",
       "      <td>20190701</td>\n",
       "      <td>A000100</td>\n",
       "      <td>유한양행</td>\n",
       "      <td>1</td>\n",
       "      <td>1</td>\n",
       "      <td>의약품 제조업</td>\n",
       "      <td>395757</td>\n",
       "      <td>25.620158</td>\n",
       "      <td>6.756757</td>\n",
       "      <td>66856810.0</td>\n",
       "      <td>1.712882e+09</td>\n",
       "      <td>2019</td>\n",
       "      <td>7</td>\n",
       "      <td>201</td>\n",
       "      <td>201907</td>\n",
       "    </tr>\n",
       "    <tr>\n",
       "      <th>3</th>\n",
       "      <td>3</td>\n",
       "      <td>20190701</td>\n",
       "      <td>A000120</td>\n",
       "      <td>CJ대한통운</td>\n",
       "      <td>0</td>\n",
       "      <td>1</td>\n",
       "      <td>도로 화물 운송업</td>\n",
       "      <td>62513</td>\n",
       "      <td>13.534785</td>\n",
       "      <td>2.930403</td>\n",
       "      <td>22812344.0</td>\n",
       "      <td>3.087602e+08</td>\n",
       "      <td>2019</td>\n",
       "      <td>7</td>\n",
       "      <td>201</td>\n",
       "      <td>201907</td>\n",
       "    </tr>\n",
       "    <tr>\n",
       "      <th>4</th>\n",
       "      <td>4</td>\n",
       "      <td>20190701</td>\n",
       "      <td>A000140</td>\n",
       "      <td>하이트진로홀딩스</td>\n",
       "      <td>1</td>\n",
       "      <td>1</td>\n",
       "      <td>기타 금융업</td>\n",
       "      <td>7661</td>\n",
       "      <td>0.900144</td>\n",
       "      <td>3.090508</td>\n",
       "      <td>23206765.0</td>\n",
       "      <td>2.088942e+07</td>\n",
       "      <td>2019</td>\n",
       "      <td>7</td>\n",
       "      <td>201</td>\n",
       "      <td>201907</td>\n",
       "    </tr>\n",
       "  </tbody>\n",
       "</table>\n",
       "</div>"
      ],
      "text/plain": [
       "   Unnamed: 0      기준일자     종목번호       종목명 20년7월TOP3대상여부 시장구분 표준산업구분코드_소분류  \\\n",
       "0           0  20190701  A000020      동화약품             0    1      의약품 제조업   \n",
       "1           1  20190701  A000080     하이트진로             0    1    알코올음료 제조업   \n",
       "2           2  20190701  A000100      유한양행             1    1      의약품 제조업   \n",
       "3           3  20190701  A000120    CJ대한통운             0    1    도로 화물 운송업   \n",
       "4           4  20190701  A000140  하이트진로홀딩스             1    1       기타 금융업   \n",
       "\n",
       "      거래량  주식가격_만원단위  종목고가 - 종목저가/종목시가       주식발행수          시가총액  year  month  \\\n",
       "0   31341   0.975751          1.652893  27931470.0  2.725415e+07  2019      7   \n",
       "1  127186   2.032732          1.703163  70133611.0  1.425628e+08  2019      7   \n",
       "2  395757  25.620158          6.756757  66856810.0  1.712882e+09  2019      7   \n",
       "3   62513  13.534785          2.930403  22812344.0  3.087602e+08  2019      7   \n",
       "4    7661   0.900144          3.090508  23206765.0  2.088942e+07  2019      7   \n",
       "\n",
       "   day    기준년월  \n",
       "0  201  201907  \n",
       "1  201  201907  \n",
       "2  201  201907  \n",
       "3  201  201907  \n",
       "4  201  201907  "
      ]
     },
     "execution_count": 24,
     "metadata": {},
     "output_type": "execute_result"
    }
   ],
   "source": [
    "stocks.head()"
   ]
  },
  {
   "cell_type": "code",
   "execution_count": 25,
   "metadata": {},
   "outputs": [],
   "source": [
    "stocks=stocks.drop(\"Unnamed: 0\", axis=1)"
   ]
  },
  {
   "cell_type": "code",
   "execution_count": 28,
   "metadata": {},
   "outputs": [],
   "source": [
    "stocks.to_csv(\"stocks_add.csv\")"
   ]
  },
  {
   "cell_type": "code",
   "execution_count": null,
   "metadata": {
    "scrolled": true
   },
   "outputs": [],
   "source": [
    "stocks_cl = stocks_cl.drop('상장구분', axis=1)\n",
    "stocks_cl.head()"
   ]
  },
  {
   "cell_type": "code",
   "execution_count": null,
   "metadata": {},
   "outputs": [],
   "source": [
    "data_stocks = pd.read_csv(\"stocks.csv\")\n",
    "stock_feature = data_stocks[['종목번호','종목명','20년7월TOP3대상여부','시장구분','표준산업구분코드_대분류','표준산업구분코드_중분류','표준산업구분코드_소분류']]\n",
    "stock_feature = stock_feature.sort_values(by='종목번호') #종목기준으로 정렬\n",
    "stock_feature = stock_feature.drop_duplicates(['종목번호']) #종목 dupicated\n",
    "stock_feature.head()"
   ]
  },
  {
   "cell_type": "code",
   "execution_count": null,
   "metadata": {},
   "outputs": [],
   "source": [
    "# trade.rename(columns = {'Unnamed: 0' : 'index', '기준년월':'year_month', '그룹번호':'Group_num', '그룹내고객수':'Customer_cnt', \n",
    "#                        '종목번호':'Stock_num', '그룹내_매수여부':'Buying_YN', '그룹내_매도여부':'Selling_YN', '매수고객수':'Buyer_cnt',\n",
    "#                         '매도고객수':'Seller_cnt', '평균매수수량':'Buying_cnt_avg', '평균매도수량':'Selling_cnt_avg', \n",
    "#                         '매수가격_중앙값':'BuyingPrice_median', '매도가격_중앙값':'SellingPrice_median'}, inplace = True)\n",
    "# # trade.head()"
   ]
  },
  {
   "cell_type": "code",
   "execution_count": null,
   "metadata": {},
   "outputs": [],
   "source": [
    "stock_feature"
   ]
  },
  {
   "cell_type": "code",
   "execution_count": null,
   "metadata": {},
   "outputs": [],
   "source": [
    "train.columns"
   ]
  },
  {
   "cell_type": "code",
   "execution_count": null,
   "metadata": {},
   "outputs": [],
   "source": [
    "X = train[['Customer_cnt', 'Buying_YN',\n",
    "       'Selling_YN', 'Seller_cnt', 'Buying_cnt_avg',\n",
    "       'Selling_cnt_avg', 'BuyingPrice_median', 'SellingPrice_median',\n",
    "       ]].values"
   ]
  },
  {
   "cell_type": "code",
   "execution_count": null,
   "metadata": {},
   "outputs": [],
   "source": [
    "len(X)"
   ]
  },
  {
   "cell_type": "markdown",
   "metadata": {},
   "source": [
    "#### test set 분류 (2020-06)"
   ]
  },
  {
   "cell_type": "code",
   "execution_count": null,
   "metadata": {},
   "outputs": [],
   "source": [
    "test = df[df[\"datetime\"].dt.month == 6]\n",
    "train = df[df[\"datetime\"].dt.month != 6]"
   ]
  },
  {
   "cell_type": "markdown",
   "metadata": {},
   "source": [
    "### 훈련"
   ]
  },
  {
   "cell_type": "code",
   "execution_count": null,
   "metadata": {},
   "outputs": [],
   "source": [
    "def eval_on_features(features, target, regressor):\n",
    "    X_train, X_test = features[:n_train], features[n_train:]\n",
    "    \n",
    "    y_train, y_test = target[:n_train], target[n_train:]\n",
    "    regressor.fit(X_train, y_train)\n",
    "    \n",
    "    print(\"테스트 세트 R^2:{:.2f}\".format(regressor.score(X_test, y_test)))\n",
    "    \n",
    "    y_pred = regressor.predict(X_test)\n",
    "    y_pred_train = regressor.predict(X_train)\n",
    "    \n",
    "#     print(y_pred, y_pred_train)\n",
    "#     plt.figure(figsize=(10, 3))\n",
    "    \n",
    "#     plt.xticks(range(0, len(X), 8), xticks_name, rotation=90, ha=\"left\")\n",
    "    \n",
    "#     plt.plot(range(n_train), y_train, label=\"훈련\")\n",
    "#     plt.plot(range(n_train, len(y_test) + n_train), y_test, '-', label=\"테스트\")\n",
    "#     plt.plot(range(n_train), y_pred_train, '--', label=\"훈련 예측\")\n",
    "    \n",
    "#     plt.plot(range(n_train, len(y_test) + n_train), y_pred, '--', label=\"테스트 예측\")\n",
    "#     plt.legend(loc=(1.01, 0))\n",
    "#     plt.xlabel(\"날짜\")\n",
    "#     plt.ylabel(\"매수\")"
   ]
  },
  {
   "cell_type": "code",
   "execution_count": null,
   "metadata": {},
   "outputs": [],
   "source": [
    "train = train[['datetime', 'Group_num','Customer_cnt', 'Buying_YN',\n",
    "       'Selling_YN', 'Buyer_cnt', 'Seller_cnt', 'Buying_cnt_avg',\n",
    "       'Selling_cnt_avg', 'BuyingPrice_median', 'SellingPrice_median']]"
   ]
  },
  {
   "cell_type": "code",
   "execution_count": null,
   "metadata": {
    "scrolled": true
   },
   "outputs": [],
   "source": [
    "from sklearn.ensemble import RandomForestRegressor\n",
    "regressor = RandomForestRegressor(n_estimators=100, random_state=0)\n",
    "\n",
    "for group_num in group:\n",
    "    train = train.copy()\n",
    "    t = train[train[\"Group_num\"]==group_num]\n",
    "    n_train = t[t[\"datetime\"].dt.month != 5].shape[0]\n",
    "    t = t.set_index(\"datetime\")\n",
    "    y = t[\"Buyer_cnt\"].values\n",
    "    t = t.drop([\"Buyer_cnt\", \"Group_num\"], axis=1)\n",
    "    X = t.values\n",
    "    print(X.shape, y.shape)\n",
    "    eval_on_features(X, y, regressor)\n",
    "#     break"
   ]
  },
  {
   "cell_type": "markdown",
   "metadata": {},
   "source": [
    "나 갑자기 생각난건데 trade data에서 월별 그룹당 (총 매수고객수 대비 각 종목별 매수고객수)가 그 달의 매수고객수를 종목별 비율로 알 수 있어서 좋을 것 같은데 어떻게 생각해"
   ]
  },
  {
   "cell_type": "code",
   "execution_count": null,
   "metadata": {},
   "outputs": [],
   "source": [
    "group = trade['그룹번호'].unique()\n",
    "len(group)"
   ]
  },
  {
   "cell_type": "code",
   "execution_count": null,
   "metadata": {},
   "outputs": [],
   "source": [
    "group[:16] # 유진"
   ]
  },
  {
   "cell_type": "code",
   "execution_count": null,
   "metadata": {},
   "outputs": [],
   "source": [
    "group[16:32] # 현욱"
   ]
  },
  {
   "cell_type": "code",
   "execution_count": null,
   "metadata": {},
   "outputs": [],
   "source": [
    "group[32:] # 소민"
   ]
  },
  {
   "cell_type": "markdown",
   "metadata": {},
   "source": [
    "### Create Answer Sheet"
   ]
  },
  {
   "cell_type": "code",
   "execution_count": null,
   "metadata": {},
   "outputs": [],
   "source": [
    "submission = pd.read_csv(\"answer_sheet.csv\")"
   ]
  },
  {
   "cell_type": "code",
   "execution_count": null,
   "metadata": {},
   "outputs": [],
   "source": [
    "submission.iloc[:,1:] = pred.reshape(-1, 3)"
   ]
  },
  {
   "cell_type": "code",
   "execution_count": null,
   "metadata": {},
   "outputs": [],
   "source": [
    "submission.to_csv(\"[20200919]answer\", index=False)"
   ]
  }
 ],
 "metadata": {
  "kernelspec": {
   "display_name": "Python 3",
   "language": "python",
   "name": "python3"
  },
  "language_info": {
   "codemirror_mode": {
    "name": "ipython",
    "version": 3
   },
   "file_extension": ".py",
   "mimetype": "text/x-python",
   "name": "python",
   "nbconvert_exporter": "python",
   "pygments_lexer": "ipython3",
   "version": "3.7.7"
  }
 },
 "nbformat": 4,
 "nbformat_minor": 4
}
